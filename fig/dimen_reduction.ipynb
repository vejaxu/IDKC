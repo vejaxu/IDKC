{
 "cells": [
  {
   "cell_type": "code",
   "execution_count": 2,
   "id": "3b0b1aa7",
   "metadata": {},
   "outputs": [],
   "source": [
    "from scipy.io import loadmat, savemat\n",
    "from sklearn.decomposition import PCA\n",
    "key = \"isolet\"\n",
    "# Step 1: 读取原始数据\n",
    "data = loadmat(f\"../../data/{key}.mat\")\n",
    "X = data['data']  # 假设你要降维的数据变量名是 'X'\n",
    "y = data['labels']\n",
    "original = X.shape[1]\n",
    "reduced = int(original * 0.2)  # 降维到原始维度的20%\n",
    "\n",
    "# Step 2: 降维\n",
    "pca = PCA(n_components=reduced)\n",
    "X_reduced = pca.fit_transform(X)\n",
    "\n",
    "# Step 3: 创建新字典来保存新的数据集（包含原始变量以外的新变量）\n",
    "new_data = {\n",
    "    'data': X_reduced,  # 可以添加其他变量，如标签等\n",
    "    'class': y\n",
    "}\n",
    "\n",
    "# Step 4: 保存为新的 .mat 文件\n",
    "savemat(f'../../data/one_to_five/{key}.mat', new_data)\n",
    "\n"
   ]
  },
  {
   "cell_type": "code",
   "execution_count": null,
   "id": "6d1d4472",
   "metadata": {},
   "outputs": [],
   "source": []
  }
 ],
 "metadata": {
  "kernelspec": {
   "display_name": "xwj_dcv",
   "language": "python",
   "name": "python3"
  },
  "language_info": {
   "codemirror_mode": {
    "name": "ipython",
    "version": 3
   },
   "file_extension": ".py",
   "mimetype": "text/x-python",
   "name": "python",
   "nbconvert_exporter": "python",
   "pygments_lexer": "ipython3",
   "version": "3.8.20"
  }
 },
 "nbformat": 4,
 "nbformat_minor": 5
}
